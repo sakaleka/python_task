{
 "cells": [
  {
   "cell_type": "code",
   "execution_count": 2,
   "id": "7f605e30",
   "metadata": {},
   "outputs": [
    {
     "data": {
      "text/plain": [
       "[1, 2, 3, 4, 5, 6]"
      ]
     },
     "execution_count": 2,
     "metadata": {},
     "output_type": "execute_result"
    }
   ],
   "source": [
    "x=[1,2,3,4,5,6]\n",
    "[i for i in x]"
   ]
  },
  {
   "cell_type": "code",
   "execution_count": 1,
   "id": "14fb711b",
   "metadata": {},
   "outputs": [
    {
     "name": "stdout",
     "output_type": "stream",
     "text": [
      "1\n",
      "2\n",
      "3\n",
      "4\n",
      "5\n",
      "6\n"
     ]
    }
   ],
   "source": [
    "x=[1,2,3,4,5,6]\n",
    "for i in x:\n",
    "    print(i)"
   ]
  },
  {
   "cell_type": "code",
   "execution_count": 7,
   "id": "a8aa48eb",
   "metadata": {},
   "outputs": [
    {
     "name": "stdout",
     "output_type": "stream",
     "text": [
      "enter the lenth of item2\n",
      "enter your itemsachin\n",
      "enter your item10\n",
      "All item in list ['sachin', '10']\n"
     ]
    }
   ],
   "source": [
    "y=[]\n",
    "count=input(\"enter the lenth of item\")\n",
    "for i in range(0,int(count)):\n",
    "    user=(input(\"enter your item\"))\n",
    "    y.insert(i,user)\n",
    "print(\"All item in list\",y)"
   ]
  },
  {
   "cell_type": "code",
   "execution_count": 22,
   "id": "690c9653",
   "metadata": {},
   "outputs": [
    {
     "name": "stdout",
     "output_type": "stream",
     "text": [
      "The even list is: [3, 5, 7]\n",
      "The odd list is: [1, 3, 5, 7]\n"
     ]
    }
   ],
   "source": [
    "x=[1,2,3,4,5,6,7]\n",
    "even=[]\n",
    "odd=[]\n",
    "for i in x:\n",
    "    if i%2==0:\n",
    "        even.append(x[i])\n",
    "    else:\n",
    "        odd.append(i)\n",
    "print(\"The even list is:\", even)\n",
    "print(\"The odd list is:\",odd)"
   ]
  },
  {
   "cell_type": "code",
   "execution_count": 23,
   "id": "bb42cb99",
   "metadata": {},
   "outputs": [
    {
     "name": "stdout",
     "output_type": "stream",
     "text": [
      "The sum is 10\n",
      "The multiplication is: 24\n"
     ]
    }
   ],
   "source": [
    "x=[1,2,3,4]\n",
    "sum=0\n",
    "mul=1\n",
    "for i in x:\n",
    "    sum=sum+i\n",
    "    mul=mul*i\n",
    "print(\"The sum is\", sum)\n",
    "print(\"The multiplication is:\", mul)"
   ]
  },
  {
   "cell_type": "code",
   "execution_count": 38,
   "id": "5daaa297",
   "metadata": {},
   "outputs": [
    {
     "name": "stdout",
     "output_type": "stream",
     "text": [
      "Largest number in the list is: 98\n",
      "Smallest number is the list is: 4\n"
     ]
    }
   ],
   "source": [
    "x=[8,98,11,4,7]\n",
    "y=0\n",
    "z=100\n",
    "for i in x:\n",
    "    if i>y:\n",
    "        y=i\n",
    "    elif i<z:\n",
    "        z=i\n",
    "print(\"Largest number in the list is:\",y)\n",
    "print(\"Smallest number is the list is:\",z)\n",
    "    "
   ]
  },
  {
   "cell_type": "code",
   "execution_count": 42,
   "id": "82fb9855",
   "metadata": {},
   "outputs": [
    {
     "name": "stdout",
     "output_type": "stream",
     "text": [
      "enter your itemred\n",
      "enter your itemyellow\n",
      "enter your itemgreen\n",
      "enter your itemblue\n",
      "enter your itemred\n",
      "enter your itemblack\n",
      "red red black\n"
     ]
    }
   ],
   "source": [
    "#Write a Python program to print a specified list after removing the 0th, 4th and 5th elements\n",
    "y=[]\n",
    "for i in range(0,6):\n",
    "    user=(input(\"enter your item\"))\n",
    "    y.insert(i,user)\n",
    "\n",
    "print(y[0],y[4],y[5])\n"
   ]
  },
  {
   "cell_type": "code",
   "execution_count": 47,
   "id": "25e8cfe4",
   "metadata": {},
   "outputs": [
    {
     "name": "stdout",
     "output_type": "stream",
     "text": [
      "enter your charaters\n",
      "enter your charatera\n",
      "enter your charaterc\n",
      "enter your charaterh\n",
      "enter your charateri\n",
      "enter your charatern\n",
      "['s', 'a', 'c', 'h', 'i', 'n']\n"
     ]
    },
    {
     "data": {
      "text/plain": [
       "'sachin'"
      ]
     },
     "execution_count": 47,
     "metadata": {},
     "output_type": "execute_result"
    }
   ],
   "source": [
    "#Write a Python program to convert a list of characters into a string\n",
    "y=[]\n",
    "for i in range(0,6):\n",
    "    user=(input(\"enter your charater\"))\n",
    "    y.insert(i,user)\n",
    "print(y)\n",
    "\"\".join(y)"
   ]
  },
  {
   "cell_type": "code",
   "execution_count": 60,
   "id": "2936c7e2",
   "metadata": {},
   "outputs": [
    {
     "name": "stdout",
     "output_type": "stream",
     "text": [
      "enter the lenth of item5\n",
      "enter your item10\n",
      "enter your item15\n",
      "enter your item20\n",
      "enter your item25\n",
      "enter your item30\n",
      "Item in list is: ['10', '15', '20', '25', '30']\n",
      "Sum of item is: 100 \n",
      " and Average is 20.0\n"
     ]
    }
   ],
   "source": [
    "#Write a Python program to compute average of given lists\n",
    "y=[]\n",
    "sum=0\n",
    "count=input(\"enter the lenth of item\")\n",
    "for i in range(0,int(count)):\n",
    "    user=(input(\"enter your item\"))\n",
    "    y.append(user)\n",
    "    sum=sum+int(user)\n",
    "avg=sum/len(y)\n",
    "print(\"Item in list is:\",y)\n",
    "print(\"Sum of item is:\",sum ,\"\\n and Average is\",avg)"
   ]
  },
  {
   "cell_type": "code",
   "execution_count": 6,
   "id": "4e6c4ed8",
   "metadata": {},
   "outputs": [
    {
     "name": "stdout",
     "output_type": "stream",
     "text": [
      "5\n"
     ]
    }
   ],
   "source": [
    "#Write a Python program to count integer in a given mixed list.\n",
    "x=[10,\"a\",2,3,5.5,1.34,\"Abc\",\"rt\"]\n",
    "count=0\n",
    "for i in x:\n",
    "    if type(i)==int or type(i)==float:\n",
    "        count=count+1\n",
    "print(count)\n",
    "        "
   ]
  },
  {
   "cell_type": "code",
   "execution_count": 18,
   "id": "93ded627",
   "metadata": {},
   "outputs": [
    {
     "name": "stdout",
     "output_type": "stream",
     "text": [
      "['rt', 'Abc', 1.34, 5.5, 3, 2, 'a', 10]\n"
     ]
    }
   ],
   "source": [
    "#Write a Python program to reverse the list\n",
    "x=[10,\"a\",2,3,5.5,1.34,\"Abc\",\"rt\"]\n",
    "y=[]\n",
    "\n",
    "for i in range(len(x)-1,-1,-1):\n",
    "    y.append(x[i])\n",
    "print(y)\n",
    "    \n"
   ]
  },
  {
   "cell_type": "code",
   "execution_count": 35,
   "id": "44f867d6",
   "metadata": {},
   "outputs": [
    {
     "name": "stdout",
     "output_type": "stream",
     "text": [
      " after coverting from string is:\n",
      "('p', 'y', 't', 'h', 'o', 'n', '1', '.', '2')\n"
     ]
    }
   ],
   "source": [
    "#Write a Python program convert a given string to a tuple\n",
    "var=\"python1.2\"\n",
    "var1=tuple(var)\n",
    "\n",
    "print(\" after coverting from string is:\")\n",
    "print(var1)"
   ]
  },
  {
   "cell_type": "code",
   "execution_count": null,
   "id": "79db423d",
   "metadata": {},
   "outputs": [],
   "source": []
  }
 ],
 "metadata": {
  "kernelspec": {
   "display_name": "Python 3 (ipykernel)",
   "language": "python",
   "name": "python3"
  },
  "language_info": {
   "codemirror_mode": {
    "name": "ipython",
    "version": 3
   },
   "file_extension": ".py",
   "mimetype": "text/x-python",
   "name": "python",
   "nbconvert_exporter": "python",
   "pygments_lexer": "ipython3",
   "version": "3.9.12"
  }
 },
 "nbformat": 4,
 "nbformat_minor": 5
}

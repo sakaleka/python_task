{
 "cells": [
  {
   "cell_type": "code",
   "execution_count": 50,
   "id": "f8bd7685",
   "metadata": {},
   "outputs": [
    {
     "name": "stdout",
     "output_type": "stream",
     "text": [
      " *****\n",
      "*     *\n",
      "* * * *\n",
      "*     *\n",
      "*     *\n"
     ]
    }
   ],
   "source": [
    "#Print A\n",
    "x=1\n",
    "\n",
    "while x<=5:\n",
    "    if x==1:\n",
    "        print(\" *****\")\n",
    "    elif x==2:\n",
    "        print(\"*     *\")\n",
    "    elif x==3:\n",
    "        print(\"* * * *\")\n",
    "    elif x==4:\n",
    "        print(\"*     *\")\n",
    "    else:\n",
    "        print(\"*     *\")\n",
    "    x=x+1"
   ]
  },
  {
   "cell_type": "code",
   "execution_count": 14,
   "id": "5359e42c",
   "metadata": {},
   "outputs": [
    {
     "name": "stdout",
     "output_type": "stream",
     "text": [
      "****\n",
      "*    *\n",
      "*****\n",
      "*    *\n",
      "****\n"
     ]
    }
   ],
   "source": [
    "#Print B\n",
    "x=1\n",
    "\n",
    "while x<=5:\n",
    "    if x==1:\n",
    "        print(\"****\" )\n",
    "    elif x==2:\n",
    "        print(\"*    *\")\n",
    "    elif x==3:\n",
    "        print(\"*****\")\n",
    "    elif x==4:\n",
    "        print(\"*    *\")\n",
    "    else:\n",
    "        print(\"****\" )\n",
    "    x=x+1"
   ]
  },
  {
   "cell_type": "code",
   "execution_count": 51,
   "id": "edfacafe",
   "metadata": {},
   "outputs": [
    {
     "name": "stdout",
     "output_type": "stream",
     "text": [
      " * ** **\n",
      "*\n",
      "*\n",
      "*\n",
      " * ** **\n"
     ]
    }
   ],
   "source": [
    "# Print C\n",
    "x=1\n",
    "\n",
    "while x<=5:\n",
    "    if x==1:\n",
    "        print(\" * ** **\")\n",
    "    elif x==2:\n",
    "        print(\"*\")\n",
    "    elif x==3:\n",
    "        print(\"*\")\n",
    "    elif x==4:\n",
    "        print(\"*\")\n",
    "    else:\n",
    "        print(\" * ** **\")\n",
    "    x=x+1\n"
   ]
  },
  {
   "cell_type": "code",
   "execution_count": 21,
   "id": "5f990cbf",
   "metadata": {},
   "outputs": [
    {
     "name": "stdout",
     "output_type": "stream",
     "text": [
      "******\n",
      "*      *\n",
      "*       *\n",
      "*      *\n",
      "******\n"
     ]
    }
   ],
   "source": [
    "# print D\n",
    "\n",
    "x=1\n",
    "while x<=5:\n",
    "    if x==1:\n",
    "        print(\"******\")\n",
    "    elif x==2:\n",
    "        print(\"*      *\")\n",
    "    elif x==3:\n",
    "        print(\"*       *\")\n",
    "    elif x==4:\n",
    "        print(\"*      *\")\n",
    "    else:\n",
    "        print(\"******\")\n",
    "    x=x+1\n",
    "        \n",
    "        "
   ]
  },
  {
   "cell_type": "code",
   "execution_count": 56,
   "id": "c79272f6",
   "metadata": {},
   "outputs": [
    {
     "name": "stdout",
     "output_type": "stream",
     "text": [
      "******\n",
      "*      \n",
      "*****\n",
      "*      \n",
      "******\n"
     ]
    }
   ],
   "source": [
    "#Print E\n",
    "\n",
    "x=1\n",
    "while x<=5:\n",
    "    if x==1:\n",
    "        print(\"******\")\n",
    "    elif x==2:\n",
    "        print(\"*      \")\n",
    "    elif x==3:\n",
    "        print(\"*****\")\n",
    "    elif x==4:\n",
    "        print(\"*      \")\n",
    "    else:\n",
    "        print(\"******\")\n",
    "    x=x+1"
   ]
  },
  {
   "cell_type": "code",
   "execution_count": 24,
   "id": "fc40b64f",
   "metadata": {},
   "outputs": [
    {
     "name": "stdout",
     "output_type": "stream",
     "text": [
      "******\n",
      "*      \n",
      "***\n",
      "*      \n",
      "*\n"
     ]
    }
   ],
   "source": [
    "#Print F\n",
    "\n",
    "x=1\n",
    "while x<=5:\n",
    "    if x==1:\n",
    "        print(\"******\")\n",
    "    elif x==2:\n",
    "        print(\"*      \")\n",
    "    elif x==3:\n",
    "        print(\"***\")\n",
    "    elif x==4:\n",
    "        print(\"*      \")\n",
    "    else:\n",
    "        print(\"*\")\n",
    "    x=x+1"
   ]
  },
  {
   "cell_type": "code",
   "execution_count": 52,
   "id": "3017e9ad",
   "metadata": {},
   "outputs": [
    {
     "name": "stdout",
     "output_type": "stream",
     "text": [
      " ******\n",
      "*     \n",
      "*   ****\n",
      "*    * *\n",
      " ***** *\n"
     ]
    }
   ],
   "source": [
    "#Print G\n",
    "\n",
    "x=1\n",
    "\n",
    "while x<=5:\n",
    "    if x==1:\n",
    "        print(\" ******\")\n",
    "    elif x==2:\n",
    "        print(\"*     \")\n",
    "    elif x==3:\n",
    "        print(\"*   ****\")\n",
    "    elif x==4:\n",
    "        print(\"*    * *\")\n",
    "    else:\n",
    "        print(\" ***** *\")\n",
    "    x=x+1"
   ]
  },
  {
   "cell_type": "code",
   "execution_count": 38,
   "id": "45f07d71",
   "metadata": {},
   "outputs": [
    {
     "name": "stdout",
     "output_type": "stream",
     "text": [
      "*     *\n",
      "*     *\n",
      "*******\n",
      "*     *\n",
      "*     *\n"
     ]
    }
   ],
   "source": [
    "#print H\n",
    "x=1\n",
    "\n",
    "while x<=5:\n",
    "    if x==1:\n",
    "        print(\"*     *\")\n",
    "    elif x==2:\n",
    "        print(\"*     *\")\n",
    "    elif x==3:\n",
    "        print(\"*******\")\n",
    "    elif x==4:\n",
    "        print(\"*     *\")\n",
    "    else:\n",
    "        print(\"*     *\")\n",
    "    x=x+1"
   ]
  },
  {
   "cell_type": "code",
   "execution_count": 39,
   "id": "c6e6f49a",
   "metadata": {},
   "outputs": [
    {
     "name": "stdout",
     "output_type": "stream",
     "text": [
      "*******\n",
      "   *   \n",
      "   *   \n",
      "   *   \n",
      "*******\n"
     ]
    }
   ],
   "source": [
    "#print I\n",
    "x=1\n",
    "\n",
    "while x<=5:\n",
    "    if x==1:\n",
    "        print(\"*******\")\n",
    "    elif x==2:\n",
    "        print(\"   *   \")\n",
    "    elif x==3:\n",
    "        print(\"   *   \")\n",
    "    elif x==4:\n",
    "        print(\"   *   \")\n",
    "    else:\n",
    "        print(\"*******\")\n",
    "    x=x+1"
   ]
  },
  {
   "cell_type": "code",
   "execution_count": 41,
   "id": "f77817e0",
   "metadata": {},
   "outputs": [
    {
     "name": "stdout",
     "output_type": "stream",
     "text": [
      "*******\n",
      "   *   \n",
      "   *   \n",
      "*  *   \n",
      "****\n"
     ]
    }
   ],
   "source": [
    "#print J\n",
    "x=1\n",
    "\n",
    "while x<=5:\n",
    "    if x==1:\n",
    "        print(\"*******\")\n",
    "    elif x==2:\n",
    "        print(\"   *   \")\n",
    "    elif x==3:\n",
    "        print(\"   *   \")\n",
    "    elif x==4:\n",
    "        print(\"*  *   \")\n",
    "    else:\n",
    "        print(\"****\")\n",
    "    x=x+1"
   ]
  },
  {
   "cell_type": "code",
   "execution_count": 51,
   "id": "6b7262ed",
   "metadata": {},
   "outputs": [
    {
     "name": "stdout",
     "output_type": "stream",
     "text": [
      "*     *\n",
      "*   *\n",
      "***\n",
      "*   *\n",
      "*     *\n"
     ]
    }
   ],
   "source": [
    "#Print K\n",
    "x=1\n",
    "\n",
    "while x<=5:\n",
    "    if x==1:\n",
    "        print(\"*     *\")\n",
    "    elif x==2:\n",
    "        print(\"*   *\")\n",
    "    elif x==3:\n",
    "        print(\"***\")\n",
    "    elif x==4:\n",
    "        print(\"*   *\")\n",
    "    else:\n",
    "        print(\"*     *\")\n",
    "    x=x+1"
   ]
  },
  {
   "cell_type": "code",
   "execution_count": 52,
   "id": "5f45b922",
   "metadata": {},
   "outputs": [
    {
     "name": "stdout",
     "output_type": "stream",
     "text": [
      "*     \n",
      "*     \n",
      "*     \n",
      "*     \n",
      "*******\n"
     ]
    }
   ],
   "source": [
    "#print L\n",
    "x=1\n",
    "\n",
    "while x<=5:\n",
    "    if x==1:\n",
    "        print(\"*     \")\n",
    "    elif x==2:\n",
    "        print(\"*     \")\n",
    "    elif x==3:\n",
    "        print(\"*     \")\n",
    "    elif x==4:\n",
    "        print(\"*     \")\n",
    "    else:\n",
    "        print(\"*******\")\n",
    "    x=x+1"
   ]
  },
  {
   "cell_type": "code",
   "execution_count": 55,
   "id": "4a175afa",
   "metadata": {},
   "outputs": [
    {
     "name": "stdout",
     "output_type": "stream",
     "text": [
      "*      *\n",
      "* *  * *\n",
      "*   *  *\n",
      "*      *\n",
      "*      *\n"
     ]
    }
   ],
   "source": [
    "#print M\n",
    "x=1\n",
    "\n",
    "while x<=5:\n",
    "    if x==1:\n",
    "        print(\"*      *\")\n",
    "    elif x==2:\n",
    "        print(\"* *  * *\")\n",
    "    elif x==3:\n",
    "        print(\"*   *  *\")\n",
    "    elif x==4:\n",
    "        print(\"*      *\")\n",
    "    else:\n",
    "        print(\"*      *\")\n",
    "    x=x+1"
   ]
  },
  {
   "cell_type": "code",
   "execution_count": 57,
   "id": "ff8fff82",
   "metadata": {},
   "outputs": [
    {
     "name": "stdout",
     "output_type": "stream",
     "text": [
      "*      *\n",
      "* *    *\n",
      "*  *   *\n",
      "*    * *\n",
      "*      *\n"
     ]
    }
   ],
   "source": [
    "#print N\n",
    "x=1\n",
    "\n",
    "while x<=5:\n",
    "    if x==1:\n",
    "        print(\"*      *\")\n",
    "    elif x==2:\n",
    "        print(\"* *    *\")\n",
    "    elif x==3:\n",
    "        print(\"*  *   *\")\n",
    "    elif x==4:\n",
    "        print(\"*    * *\")\n",
    "    else:\n",
    "        print(\"*      *\")\n",
    "    x=x+1"
   ]
  },
  {
   "cell_type": "code",
   "execution_count": 6,
   "id": "e5c2c643",
   "metadata": {},
   "outputs": [
    {
     "name": "stdout",
     "output_type": "stream",
     "text": [
      " * * *\n",
      "*      *\n",
      "*      *\n",
      "*      *\n",
      " * * * \n"
     ]
    }
   ],
   "source": [
    "#print O\n",
    "\n",
    "x=1\n",
    "\n",
    "while x<=5:\n",
    "    if x==1:\n",
    "        print(\" * * *\")\n",
    "    elif x==2:\n",
    "        print(\"*      *\")\n",
    "    elif x==3:\n",
    "        print(\"*      *\")\n",
    "    elif x==4:\n",
    "        print(\"*      *\")\n",
    "    else:\n",
    "        print(\" * * * \")\n",
    "    x=x+1\n"
   ]
  },
  {
   "cell_type": "code",
   "execution_count": 5,
   "id": "5629e1b4",
   "metadata": {},
   "outputs": [
    {
     "name": "stdout",
     "output_type": "stream",
     "text": [
      "*****\n",
      "*     * \n",
      "*****\n",
      "*      \n",
      "*\n"
     ]
    }
   ],
   "source": [
    "# Print P\n",
    "\n",
    "x=1\n",
    "while x<=5:\n",
    "    if x==1:\n",
    "        print(\"*****\")\n",
    "    elif x==2:\n",
    "        print(\"*     * \")\n",
    "    elif x==3:\n",
    "        print(\"*****\")\n",
    "    elif x==4:\n",
    "        print(\"*      \")\n",
    "    else:\n",
    "        print(\"*\")\n",
    "    x=x+1"
   ]
  },
  {
   "cell_type": "code",
   "execution_count": 8,
   "id": "fd3a2b2d",
   "metadata": {},
   "outputs": [
    {
     "name": "stdout",
     "output_type": "stream",
     "text": [
      " * * *\n",
      "*      *\n",
      "*    * *\n",
      "*      *\n",
      " * * *   *\n"
     ]
    }
   ],
   "source": [
    "#Print Q\n",
    "\n",
    "x=1\n",
    "\n",
    "while x<=5:\n",
    "    if x==1:\n",
    "        print(\" * * *\")\n",
    "    elif x==2:\n",
    "        print(\"*      *\")\n",
    "    elif x==3:\n",
    "        print(\"*    * *\")\n",
    "    elif x==4:\n",
    "        print(\"*      *\")\n",
    "    else:\n",
    "        print(\" * * *   *\")\n",
    "    x=x+1"
   ]
  },
  {
   "cell_type": "code",
   "execution_count": 10,
   "id": "bd47ae72",
   "metadata": {},
   "outputs": [
    {
     "name": "stdout",
     "output_type": "stream",
     "text": [
      "*****\n",
      "*     * \n",
      "******\n",
      "*     * \n",
      "*       *\n"
     ]
    }
   ],
   "source": [
    "# Print R\n",
    "\n",
    "x=1\n",
    "while x<=5:\n",
    "    if x==1:\n",
    "        print(\"*****\")\n",
    "    elif x==2:\n",
    "        print(\"*     * \")\n",
    "    elif x==3:\n",
    "        print(\"******\")\n",
    "    elif x==4:\n",
    "        print(\"*     * \")\n",
    "    else:\n",
    "        print(\"*       *\")\n",
    "    x=x+1"
   ]
  },
  {
   "cell_type": "code",
   "execution_count": 16,
   "id": "c9888bf2",
   "metadata": {},
   "outputs": [
    {
     "name": "stdout",
     "output_type": "stream",
     "text": [
      "*****\n",
      "*      \n",
      "*****\n",
      "    *\n",
      "*****\n"
     ]
    }
   ],
   "source": [
    "#print S\n",
    "x=1\n",
    "while x<=5:\n",
    "    if x==1:\n",
    "        print(\"*****\")\n",
    "    elif x==2:\n",
    "        print(\"*      \")\n",
    "    elif x==3:\n",
    "        print(\"*****\")\n",
    "    elif x==4:\n",
    "        print(\"    *\")\n",
    "    else:\n",
    "        print(\"*****\")\n",
    "    x=x+1"
   ]
  },
  {
   "cell_type": "code",
   "execution_count": 17,
   "id": "d3aa6cfa",
   "metadata": {},
   "outputs": [
    {
     "name": "stdout",
     "output_type": "stream",
     "text": [
      "*******\n",
      "   *   \n",
      "   *   \n",
      "   *   \n",
      "   *\n"
     ]
    }
   ],
   "source": [
    "#print T\n",
    "\n",
    "x=1\n",
    "\n",
    "while x<=5:\n",
    "    if x==1:\n",
    "        print(\"*******\")\n",
    "    elif x==2:\n",
    "        print(\"   *   \")\n",
    "    elif x==3:\n",
    "        print(\"   *   \")\n",
    "    elif x==4:\n",
    "        print(\"   *   \")\n",
    "    else:\n",
    "        print(\"   *\")\n",
    "    x=x+1"
   ]
  },
  {
   "cell_type": "code",
   "execution_count": 18,
   "id": "d572a40b",
   "metadata": {},
   "outputs": [
    {
     "name": "stdout",
     "output_type": "stream",
     "text": [
      "*      *\n",
      "*      *\n",
      "*      *\n",
      "*      *\n",
      " * * * \n"
     ]
    }
   ],
   "source": [
    "#print U\n",
    "\n",
    "x=1\n",
    "\n",
    "while x<=5:\n",
    "    if x==1:\n",
    "        print(\"*      *\")\n",
    "    elif x==2:\n",
    "        print(\"*      *\")\n",
    "    elif x==3:\n",
    "        print(\"*      *\")\n",
    "    elif x==4:\n",
    "        print(\"*      *\")\n",
    "    else:\n",
    "        print(\" * * * \")\n",
    "    x=x+1"
   ]
  },
  {
   "cell_type": "code",
   "execution_count": 39,
   "id": "0b226825",
   "metadata": {},
   "outputs": [
    {
     "name": "stdout",
     "output_type": "stream",
     "text": [
      "*        *\n",
      " *      *\n",
      "  *    *\n",
      "   *  *\n",
      "    *  \n"
     ]
    }
   ],
   "source": [
    "#print V\n",
    "\n",
    "x=1\n",
    "\n",
    "while x<=5:\n",
    "    if x==1:\n",
    "        print(\"*        *\")\n",
    "    elif x==2:\n",
    "        print(\" *      *\")\n",
    "    elif x==3:\n",
    "        print(\"  *    *\")\n",
    "    elif x==4:\n",
    "        print(\"   *  *\")\n",
    "    else:\n",
    "        print(\"    *  \")\n",
    "    x=x+1"
   ]
  },
  {
   "cell_type": "code",
   "execution_count": 57,
   "id": "b5a3c803",
   "metadata": {},
   "outputs": [
    {
     "name": "stdout",
     "output_type": "stream",
     "text": [
      "*       *\n",
      "*       *\n",
      "*   *   *\n",
      "* *   * *\n",
      "*       *\n"
     ]
    }
   ],
   "source": [
    "#Print W\n",
    "\n",
    "x=1\n",
    "\n",
    "while x<=5:\n",
    "    if x==1:\n",
    "        print(\"*       *\")\n",
    "    elif x==2:\n",
    "        print(\"*       *\")\n",
    "    elif x==3:\n",
    "        print(\"*   *   *\")\n",
    "    elif x==4:\n",
    "        print(\"* *   * *\")\n",
    "    else:\n",
    "        print(\"*       *\")\n",
    "    x=x+1"
   ]
  },
  {
   "cell_type": "code",
   "execution_count": 58,
   "id": "ec3b9cba",
   "metadata": {},
   "outputs": [
    {
     "name": "stdout",
     "output_type": "stream",
     "text": [
      "*      *\n",
      " *   *\n",
      "   *\n",
      " *   *\n",
      "*      *\n"
     ]
    }
   ],
   "source": [
    "#Print X\n",
    "\n",
    "x=1\n",
    "while x<=5:\n",
    "    if x==1:\n",
    "        print(\"*      *\")\n",
    "    elif x==2:\n",
    "        print(\" *   *\")\n",
    "    elif x==3:\n",
    "        print(\"   *\")\n",
    "    elif x==4:\n",
    "        print(\" *   *\")\n",
    "    else:\n",
    "        print(\"*      *\")\n",
    "    x=x+1"
   ]
  },
  {
   "cell_type": "code",
   "execution_count": 59,
   "id": "227a87b5",
   "metadata": {},
   "outputs": [
    {
     "name": "stdout",
     "output_type": "stream",
     "text": [
      "*     *\n",
      " *   *\n",
      "   *\n",
      "   *\n",
      "   *\n"
     ]
    }
   ],
   "source": [
    "#Print Y\n",
    "\n",
    "x=1\n",
    "while x<=5:\n",
    "    if x==1:\n",
    "        print(\"*     *\")\n",
    "    elif x==2:\n",
    "        print(\" *   *\")\n",
    "    elif x==3:\n",
    "        print(\"   *\")\n",
    "    elif x==4:\n",
    "        print(\"   *\")\n",
    "    else:\n",
    "        print(\"   *\")\n",
    "    x=x+1"
   ]
  },
  {
   "cell_type": "code",
   "execution_count": 41,
   "id": "04b8b3f3",
   "metadata": {},
   "outputs": [
    {
     "name": "stdout",
     "output_type": "stream",
     "text": [
      "*******\n",
      "     *\n",
      "   *\n",
      " *   \n",
      "*******\n"
     ]
    }
   ],
   "source": [
    "#print Z\n",
    "\n",
    "x=1\n",
    "while x<=5:\n",
    "    if x==1:\n",
    "        print(\"*******\")\n",
    "    elif x==2:\n",
    "        print(\"     *\")\n",
    "    elif x==3:\n",
    "        print(\"   *\")\n",
    "    elif x==4:\n",
    "        print(\" *   \")\n",
    "    else:\n",
    "        print(\"*******\")\n",
    "    x=x+1"
   ]
  },
  {
   "cell_type": "code",
   "execution_count": null,
   "id": "e0896809",
   "metadata": {},
   "outputs": [],
   "source": []
  }
 ],
 "metadata": {
  "kernelspec": {
   "display_name": "Python 3 (ipykernel)",
   "language": "python",
   "name": "python3"
  },
  "language_info": {
   "codemirror_mode": {
    "name": "ipython",
    "version": 3
   },
   "file_extension": ".py",
   "mimetype": "text/x-python",
   "name": "python",
   "nbconvert_exporter": "python",
   "pygments_lexer": "ipython3",
   "version": "3.9.12"
  }
 },
 "nbformat": 4,
 "nbformat_minor": 5
}
